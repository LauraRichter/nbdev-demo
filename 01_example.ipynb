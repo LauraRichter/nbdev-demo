{
 "cells": [
  {
   "cell_type": "markdown",
   "id": "f082e1c9",
   "metadata": {},
   "source": [
    "# example\n",
    "\n",
    "> First example"
   ]
  },
  {
   "cell_type": "code",
   "execution_count": 1,
   "id": "1a041080",
   "metadata": {},
   "outputs": [],
   "source": [
    "#| default_exp example"
   ]
  },
  {
   "cell_type": "code",
   "execution_count": 2,
   "id": "73560935",
   "metadata": {},
   "outputs": [],
   "source": [
    "#| export\n",
    "import matplotlib.pylab as plt\n",
    "import numpy as np"
   ]
  },
  {
   "cell_type": "code",
   "execution_count": 3,
   "id": "385d0401",
   "metadata": {},
   "outputs": [],
   "source": [
    "#| export\n",
    "\n",
    "def simulate_data():\n",
    "    x = np.arange(16)\n",
    "    y = x ** 2\n",
    "    return x, y"
   ]
  },
  {
   "cell_type": "code",
   "execution_count": 4,
   "id": "259541a8",
   "metadata": {},
   "outputs": [
    {
     "data": {
      "text/plain": [
       "[<matplotlib.lines.Line2D at 0x11b1c28e0>]"
      ]
     },
     "execution_count": 4,
     "metadata": {},
     "output_type": "execute_result"
    },
    {
     "data": {
      "image/png": "[encoded data removed]",
      "text/plain": [
       "<Figure size 432x288 with 1 Axes>"
      ]
     },
     "metadata": {
      "needs_background": "light"
     },
     "output_type": "display_data"
    }
   ],
   "source": [
    "x, y = simulate_data()\n",
    "plt.plot(x, y)"
   ]
  },
  {
   "cell_type": "code",
   "execution_count": 5,
   "id": "b5ee573a",
   "metadata": {},
   "outputs": [],
   "source": [
    "#| hide\n",
    "import nbdev; nbdev.nbdev_export()"
   ]
  }
 ],
 "metadata": {
  "kernelspec": {
   "display_name": "Python 3 (ipykernel)",
   "language": "python",
   "name": "python3"
  },
  "language_info": {
   "codemirror_mode": {
    "name": "ipython",
    "version": 3
   },
   "file_extension": ".py",
   "mimetype": "text/x-python",
   "name": "python",
   "nbconvert_exporter": "python",
   "pygments_lexer": "ipython3",
   "version": "3.9.1"
  }
 },
 "nbformat": 4,
 "nbformat_minor": 5
}
